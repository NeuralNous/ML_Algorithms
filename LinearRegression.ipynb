{
 "cells": [
  {
   "cell_type": "code",
   "execution_count": 4,
   "metadata": {},
   "outputs": [],
   "source": [
    "import numpy as np\n",
    "import pandas as pd\n",
    "import matplotlib.pyplot as plt\n",
    "from sklearn.metrics import mean_squared_error"
   ]
  },
  {
   "cell_type": "code",
   "execution_count": 5,
   "metadata": {},
   "outputs": [],
   "source": [
    "def func(x):\n",
    "    return x*5 + 9"
   ]
  },
  {
   "cell_type": "code",
   "execution_count": 6,
   "metadata": {},
   "outputs": [],
   "source": [
    "objects_num = 50\n",
    "X = np.linspace(-5, 5, objects_num)\n",
    "y = func(X) + np.random.randn(objects_num) * 5"
   ]
  },
  {
   "cell_type": "code",
   "execution_count": 7,
   "metadata": {
    "scrolled": true
   },
   "outputs": [
    {
     "data": {
      "image/png": "[encoded data removed]",
      "text/plain": [
       "<Figure size 432x288 with 1 Axes>"
      ]
     },
     "metadata": {
      "needs_background": "light"
     },
     "output_type": "display_data"
    }
   ],
   "source": [
    "fig, ax = plt.subplots()\n",
    "ax.plot(func(X), 'bo')\n",
    "plt.show()"
   ]
  },
  {
   "cell_type": "code",
   "execution_count": 47,
   "metadata": {},
   "outputs": [],
   "source": [
    "class LinearReg():\n",
    "    \n",
    "    def __init__(self, reg='ridge', reg_coef=0.01):\n",
    "        self.w = None\n",
    "        self.reg = reg\n",
    "        self.reg_coef = reg_coef\n",
    "        \n",
    "    def fit(self, X, y, max_iter=100, lr=0.01):\n",
    "        n, k = X.shape\n",
    "        \n",
    "        \n",
    "        X_train = np.hstack((X, np.ones((n, 1))))\n",
    "        \n",
    "        if self.w == None:\n",
    "            self.w = np.random.randn(k + 1)\n",
    "        \n",
    "        self.loss = []\n",
    "        \n",
    "        for i in range(max_iter):\n",
    "            y_pred = self.predict(X)\n",
    "            self.loss.append((mean_squared_error(y_pred , y)))\n",
    "            \n",
    "            self.w -= lr * self.calc_grad(X=X_train, y_pred=y_pred, y=y)\n",
    "    \n",
    "    def predict(self, X):\n",
    "        n, k = X.shape\n",
    "        return np.hstack((X, np.ones((n, 1)))) @ self.w\n",
    "    \n",
    "    def calc_grad(self, X, y_pred, y):\n",
    "        if self.reg=='ridge':\n",
    "            return ((2 * (y_pred - y)[:, np.newaxis] * X) + 2 * self.reg_coef * self.w).mean(axis=0)\n",
    "        elif self.reg=='lasso':\n",
    "            return ((2 * (y_pred - y)[:, np.newaxis] * X) + 2 * self.reg_coef * np.sign(self.w)).mean(axis=0)\n",
    "        else:\n",
    "            return (2 * (y_pred - y)[:, np.newaxis] * X).mean(axis=0)\n",
    "    \n",
    "    def get_weights(self):\n",
    "        return self.w"
   ]
  },
  {
   "cell_type": "code",
   "execution_count": null,
   "metadata": {},
   "outputs": [],
   "source": [
    "Lr = LinearReg(reg='ridge', reg_coef=2)\n",
    "Lr.fit(X[])"
   ]
  },
  {
   "cell_type": "code",
   "execution_count": 26,
   "metadata": {},
   "outputs": [
    {
     "data": {
      "image/png": "[encoded data removed]",
      "text/plain": [
       "<Figure size 432x288 with 1 Axes>"
      ]
     },
     "metadata": {
      "needs_background": "light"
     },
     "output_type": "display_data"
    }
   ],
   "source": [
    "\n",
    "fig, ax = plt.subplots()\n",
    "ax.plot(Lr.predict(X[:, np.newaxis]), 'bo')\n",
    "plt.show()"
   ]
  },
  {
   "cell_type": "code",
   "execution_count": 56,
   "metadata": {},
   "outputs": [
    {
     "data": {
      "text/plain": [
       "20.554323292142477"
      ]
     },
     "execution_count": 56,
     "metadata": {},
     "output_type": "execute_result"
    }
   ],
   "source": [
    "mean_squared_error(Lr.predict(X[:, np.newaxis]),y)"
   ]
  }
 ],
 "metadata": {
  "kernelspec": {
   "display_name": "Python 3",
   "language": "python",
   "name": "python3"
  },
  "language_info": {
   "codemirror_mode": {
    "name": "ipython",
    "version": 3
   },
   "file_extension": ".py",
   "mimetype": "text/x-python",
   "name": "python",
   "nbconvert_exporter": "python",
   "pygments_lexer": "ipython3",
   "version": "3.8.5"
  }
 },
 "nbformat": 4,
 "nbformat_minor": 4
}
